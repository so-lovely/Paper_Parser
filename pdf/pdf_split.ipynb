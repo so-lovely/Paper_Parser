{
 "cells": [
  {
   "cell_type": "code",
   "execution_count": 1,
   "metadata": {},
   "outputs": [],
   "source": [
    "import pymupdf4llm\n",
    "from langchain.text_splitter import MarkdownTextSplitter\n",
    "import threading\n",
    "import os"
   ]
  },
  {
   "cell_type": "code",
   "execution_count": 2,
   "metadata": {},
   "outputs": [],
   "source": [
    "Data = []"
   ]
  },
  {
   "cell_type": "code",
   "execution_count": 3,
   "metadata": {},
   "outputs": [],
   "source": [
    "lock = threading.Lock()"
   ]
  },
  {
   "cell_type": "code",
   "execution_count": 4,
   "metadata": {},
   "outputs": [],
   "source": [
    "def split(path:str, chunk_size, chunk_overlap) -> list:\n",
    " # get markdown for all pages\n",
    "    splitter = MarkdownTextSplitter(chunk_size=chunk_size, chunk_overlap=chunk_overlap)\n",
    "    lock.acquire()\n",
    "    Document = splitter.create_documents([pymupdf4llm.to_markdown(path)])\n",
    "    lock.release()\n",
    "    lock.acquire()\n",
    "    Data.append(Document)\n",
    "    lock.release()\n",
    "\n",
    "def threads_process(folder_path:str, chunk_size, chunk_overlap):\n",
    "    files = os.listdir(folder_path)\n",
    "    length = len(files)\n",
    "    i = 0\n",
    "    threads = []\n",
    "    while (not i == length):\n",
    "        path = folder_path + '/' + files[i]\n",
    "        thread = threading.Thread(target=split, args=(path, chunk_size, chunk_overlap)) \n",
    "        threads.append(thread)\n",
    "        thread.start()\n",
    "        i = i + 1\n",
    "    return threads"
   ]
  },
  {
   "cell_type": "code",
   "execution_count": 5,
   "metadata": {},
   "outputs": [],
   "source": [
    "def pdf_splitter(dir_path:str | list[str], chunk_size, chunk_overlap):\n",
    "    threads = threads_process(dir_path, chunk_size, chunk_overlap)\n",
    "    for thread in threads:\n",
    "        thread.join()\n",
    "    print('finish')\n",
    "    return Data"
   ]
  },
  {
   "cell_type": "code",
   "execution_count": 6,
   "metadata": {},
   "outputs": [],
   "source": [
    "dir = '/Users/user/Documents/paper_parser/pdf/pdf_data/Computational Finance'"
   ]
  },
  {
   "cell_type": "code",
   "execution_count": 7,
   "metadata": {},
   "outputs": [
    {
     "name": "stdout",
     "output_type": "stream",
     "text": [
      "finish\n"
     ]
    }
   ],
   "source": [
    "pdf_splitter(dir, 40, 0)"
   ]
  }
 ],
 "metadata": {
  "kernelspec": {
   "display_name": "paper_parser",
   "language": "python",
   "name": "python3"
  },
  "language_info": {
   "codemirror_mode": {
    "name": "ipython",
    "version": 3
   },
   "file_extension": ".py",
   "mimetype": "text/x-python",
   "name": "python",
   "nbconvert_exporter": "python",
   "pygments_lexer": "ipython3",
   "version": "3.12.3"
  }
 },
 "nbformat": 4,
 "nbformat_minor": 2
}
