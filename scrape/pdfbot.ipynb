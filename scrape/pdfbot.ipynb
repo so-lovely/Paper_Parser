{
 "cells": [
  {
   "cell_type": "code",
   "execution_count": 5,
   "metadata": {},
   "outputs": [],
   "source": [
    "import linkbot\n",
    "import requests"
   ]
  },
  {
   "cell_type": "code",
   "execution_count": null,
   "metadata": {},
   "outputs": [],
   "source": [
    "class pdfbot(linkbot):\n",
    "    def __init__(self):\n",
    "        self.response = None\n",
    "        \n",
    "    def response(self, pdf_lnk):\n",
    "         self.response = requests(pdf_lnk)\n",
    "\n",
    "    async def get_pdf(self, response, file_name):\n",
    "\n",
    "        pdf_name = file_name + '.pdf'\n",
    "\n",
    "        with open(pdf_name, \"wb\") as f:\n",
    "            f.write(self.response.content)"
   ]
  }
 ],
 "metadata": {
  "kernelspec": {
   "display_name": "paper_parser",
   "language": "python",
   "name": "python3"
  },
  "language_info": {
   "codemirror_mode": {
    "name": "ipython",
    "version": 3
   },
   "file_extension": ".py",
   "mimetype": "text/x-python",
   "name": "python",
   "nbconvert_exporter": "python",
   "pygments_lexer": "ipython3",
   "version": "3.12.3"
  }
 },
 "nbformat": 4,
 "nbformat_minor": 2
}
