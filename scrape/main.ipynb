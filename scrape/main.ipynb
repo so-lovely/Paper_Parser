{
 "cells": [
  {
   "cell_type": "code",
   "execution_count": 1,
   "metadata": {},
   "outputs": [],
   "source": [
    "import linkbot\n",
    "import pdfbot"
   ]
  },
  {
   "cell_type": "code",
   "execution_count": null,
   "metadata": {},
   "outputs": [],
   "source": [
    "start_url = 'https://arxiv.org/'\n",
    "linkbot = linkbot(start_url) \n",
    "pdfbot = pdfbot()\n",
    "linkbot.startpoint_load()\n",
    "linkbot.find_elements_by_tag_a()\n",
    "linkbot.filter_href()  #Save ids and texts\n",
    "ids = linkbot.get_ids() #get_ids fun -> arg:elements or element\n",
    "for id in linkbot.current_element.values(id):\n",
    "    linkbot.find_element_by_id(id)\n",
    "    linkbot.get_text_from_element()\n",
    "    linkbot.click_element() #page_url is changed,add code in the class\n",
    "    pdf_function_hash = linkbot.find_elements_by_link_text('pdf')\n",
    "    pdf_lnks = linkbot.filter_href(hash=pdf_function_hash)\n",
    "    for pdf_lnk in pdf_lnks:\n",
    "        response = pdfbot.response(pdf_lnk)\n",
    "        await pdfbot.get_pdf(response=response, file_name=linkbot.current_element.values(text))\n",
    "    linkbot.back()\n",
    "linkbot.quit()"
   ]
  }
 ],
 "metadata": {
  "kernelspec": {
   "display_name": "paper_parser",
   "language": "python",
   "name": "python3"
  },
  "language_info": {
   "codemirror_mode": {
    "name": "ipython",
    "version": 3
   },
   "file_extension": ".py",
   "mimetype": "text/x-python",
   "name": "python",
   "nbconvert_exporter": "python",
   "pygments_lexer": "ipython3",
   "version": "3.12.3"
  }
 },
 "nbformat": 4,
 "nbformat_minor": 2
}
