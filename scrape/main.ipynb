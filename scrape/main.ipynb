{
 "cells": [
  {
   "cell_type": "code",
   "execution_count": 3,
   "metadata": {},
   "outputs": [],
   "source": [
    "import linkbot\n",
    "import pdfbot\n",
    "from dotenv import load_dotenv\n",
    "import os"
   ]
  },
  {
   "cell_type": "code",
   "execution_count": 5,
   "metadata": {},
   "outputs": [
    {
     "name": "stdout",
     "output_type": "stream",
     "text": [
      "https://arxiv.org/\n"
     ]
    },
    {
     "ename": "TypeError",
     "evalue": "'module' object is not callable",
     "output_type": "error",
     "traceback": [
      "\u001b[0;31m---------------------------------------------------------------------------\u001b[0m",
      "\u001b[0;31mTypeError\u001b[0m                                 Traceback (most recent call last)",
      "Cell \u001b[0;32mIn[5], line 5\u001b[0m\n\u001b[1;32m      3\u001b[0m start_url \u001b[38;5;241m=\u001b[39m os\u001b[38;5;241m.\u001b[39menviron\u001b[38;5;241m.\u001b[39mget(\u001b[38;5;124m'\u001b[39m\u001b[38;5;124mSERVER\u001b[39m\u001b[38;5;124m'\u001b[39m)\n\u001b[1;32m      4\u001b[0m \u001b[38;5;28mprint\u001b[39m(start_url)\n\u001b[0;32m----> 5\u001b[0m linkbot \u001b[38;5;241m=\u001b[39m \u001b[43mlinkbot\u001b[49m\u001b[43m(\u001b[49m\u001b[43mstart_url\u001b[49m\u001b[43m)\u001b[49m \n\u001b[1;32m      6\u001b[0m pdfbot \u001b[38;5;241m=\u001b[39m pdfbot()\n\u001b[1;32m      7\u001b[0m linkbot\u001b[38;5;241m.\u001b[39mstartpoint_load()\n",
      "\u001b[0;31mTypeError\u001b[0m: 'module' object is not callable"
     ]
    }
   ],
   "source": [
    "if __name__ == '__main__':\n",
    "    load_dotenv()\n",
    "    start_url = os.environ.get('SERVER')\n",
    "    print(start_url)\n",
    "    linkbot = linkbot(start_url) \n",
    "    pdfbot = pdfbot()\n",
    "    linkbot.startpoint_load()\n",
    "    linkbot.find_elements_by_tag_a()\n",
    "    linkbot.filter_href()  #Save ids and texts\n",
    "    ids = linkbot.get_ids() #get_ids fun -> arg:elements or element\n",
    "    for id in linkbot.current_element.values(id):\n",
    "        linkbot.find_element_by_id(id)\n",
    "        linkbot.get_text_from_element()\n",
    "        linkbot.click_element() #page_url is changed,add code in the class\n",
    "        pdf_function_hash = linkbot.find_elements_by_link_text('pdf')\n",
    "        pdf_lnks = linkbot.filter_href(hash=pdf_function_hash)\n",
    "        for pdf_lnk in pdf_lnks:\n",
    "            response = pdfbot.response(pdf_lnk)\n",
    "            await pdfbot.get_pdf(response=response, file_name=linkbot.current_element.values(text))\n",
    "        linkbot.back()\n",
    "    linkbot.quit()"
   ]
  }
 ],
 "metadata": {
  "kernelspec": {
   "display_name": "paper_parser",
   "language": "python",
   "name": "python3"
  },
  "language_info": {
   "codemirror_mode": {
    "name": "ipython",
    "version": 3
   },
   "file_extension": ".py",
   "mimetype": "text/x-python",
   "name": "python",
   "nbconvert_exporter": "python",
   "pygments_lexer": "ipython3",
   "version": "3.12.3"
  }
 },
 "nbformat": 4,
 "nbformat_minor": 2
}
