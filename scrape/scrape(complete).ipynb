{
 "cells": [
  {
   "cell_type": "code",
   "execution_count": 6,
   "metadata": {},
   "outputs": [],
   "source": [
    "from selenium import webdriver\n",
    "from selenium.webdriver.common.by import By\n",
    "from dotenv import load_dotenv\n",
    "from pathlib import Path\n",
    "import os\n",
    "import requests\n",
    "import time\n",
    "import sys\n",
    "import requests\n",
    "import asyncio\n",
    "import os.path\n"
   ]
  },
  {
   "cell_type": "code",
   "execution_count": 62,
   "metadata": {},
   "outputs": [],
   "source": [
    "from bs4 import BeautifulSoup as bs"
   ]
  },
  {
   "cell_type": "code",
   "execution_count": 63,
   "metadata": {},
   "outputs": [],
   "source": [
    "from pprint import pprint"
   ]
  },
  {
   "cell_type": "code",
   "execution_count": 64,
   "metadata": {},
   "outputs": [],
   "source": [
    "import socket"
   ]
  },
  {
   "cell_type": "code",
   "execution_count": 5,
   "metadata": {},
   "outputs": [],
   "source": [
    "from selenium.webdriver.chrome.options import Options"
   ]
  },
  {
   "cell_type": "code",
   "execution_count": 6,
   "metadata": {},
   "outputs": [],
   "source": [
    "#proxy = \"http://36.255.86.113:83\""
   ]
  },
  {
   "cell_type": "code",
   "execution_count": 7,
   "metadata": {},
   "outputs": [],
   "source": [
    "load_dotenv()\n",
    "start_url = os.environ.get('SCRAPE_SERVER')\n",
    "ip_url = os.environ.get('IP_SERVER')\n",
    "original_ip = os.environ.get('ORIGINAL_IP')"
   ]
  },
  {
   "cell_type": "code",
   "execution_count": 66,
   "metadata": {},
   "outputs": [],
   "source": [
    "#chrome_options = Options()\n",
    "#chrome_options.add_argument(f'--proxy-server={proxy}')\n",
    "driver = webdriver.Chrome()#options=chrome_options)\n",
    "new_driver = webdriver.Chrome()#options=chrome_options)"
   ]
  },
  {
   "cell_type": "markdown",
   "metadata": {},
   "source": [
    "# Get Public IP Address"
   ]
  },
  {
   "cell_type": "code",
   "execution_count": null,
   "metadata": {},
   "outputs": [],
   "source": [
    "\n",
    "\"\"\"\n",
    "response = requests.get(ip_url)\n",
    "if response.status_code == 200:\n",
    "    html = response.content\n",
    "    soup = bs(html, 'html.parser')\n",
    "    print(soup.prettify())\n",
    "    ip_element = soup.find_all(\"div\", class_=\"ip_chk_box\")\n",
    "    public_ip:str = ip_element[0].text\n",
    "else:\n",
    "    pprint(response.status_code)\n",
    "\"\"\""
   ]
  },
  {
   "cell_type": "code",
   "execution_count": 68,
   "metadata": {},
   "outputs": [],
   "source": [
    "from selenium.webdriver.support.ui import WebDriverWait"
   ]
  },
  {
   "cell_type": "code",
   "execution_count": 67,
   "metadata": {},
   "outputs": [],
   "source": [
    "from selenium.webdriver.support import expected_conditions as EC"
   ]
  },
  {
   "cell_type": "code",
   "execution_count": 69,
   "metadata": {},
   "outputs": [],
   "source": [
    "load_dotenv()\n",
    "start_url = os.environ.get('SCRAPE_SERVER')\n"
   ]
  },
  {
   "cell_type": "code",
   "execution_count": 70,
   "metadata": {},
   "outputs": [],
   "source": [
    "\n",
    "driver.get(start_url)\n",
    "time.sleep(4)"
   ]
  },
  {
   "cell_type": "code",
   "execution_count": 71,
   "metadata": {},
   "outputs": [],
   "source": [
    "folder1 = driver.find_elements(by=By.TAG_NAME, value='h2')"
   ]
  },
  {
   "cell_type": "code",
   "execution_count": 72,
   "metadata": {},
   "outputs": [],
   "source": [
    "folder1 = folder1[1:9]"
   ]
  },
  {
   "cell_type": "code",
   "execution_count": 73,
   "metadata": {},
   "outputs": [],
   "source": [
    "folder1_y_location = [element.location['y'] for element in folder1]"
   ]
  },
  {
   "cell_type": "code",
   "execution_count": null,
   "metadata": {},
   "outputs": [],
   "source": [
    "folder1_y_location"
   ]
  },
  {
   "cell_type": "code",
   "execution_count": 75,
   "metadata": {},
   "outputs": [],
   "source": [
    "folder1_name = [element.text for element in folder1]"
   ]
  },
  {
   "cell_type": "code",
   "execution_count": 76,
   "metadata": {},
   "outputs": [],
   "source": [
    "folder2= driver.find_elements(by=By.TAG_NAME, value='a')"
   ]
  },
  {
   "cell_type": "code",
   "execution_count": null,
   "metadata": {},
   "outputs": [],
   "source": [
    "print(f\"len folder2_elements:{len(folder2)}\")"
   ]
  },
  {
   "cell_type": "code",
   "execution_count": null,
   "metadata": {},
   "outputs": [],
   "source": [
    "print(Path(folder2[30].get_attribute('href')).parts)"
   ]
  },
  {
   "cell_type": "code",
   "execution_count": 77,
   "metadata": {},
   "outputs": [],
   "source": [
    "def filter_href(element) -> bool:\n",
    "    href:str = element.get_attribute('href')\n",
    "    href_path:set = Path(href).parts\n",
    "    if len(href_path) == 5:\n",
    "        if (href_path)[2] == 'list' and (href_path)[4] == 'recent':\n",
    "            return True\n",
    "        else:\n",
    "            return False\n",
    "    else:\n",
    "        return False"
   ]
  },
  {
   "cell_type": "code",
   "execution_count": 80,
   "metadata": {},
   "outputs": [],
   "source": [
    "def get_pdf_elements(folder2_element) -> list:\n",
    "    href = folder2_element.get_attribute('href')\n",
    "    new_driver.get(href)\n",
    "    time.sleep(10)\n",
    "    elements_all = new_driver.find_elements(by=By.TAG_NAME, value='a')\n",
    "    element_all = None\n",
    "    time.sleep(10)\n",
    "    try:\n",
    "        for element in elements_all:\n",
    "            if element.text == 'all':\n",
    "                element_all = element\n",
    "                element_all.click()\n",
    "            else:\n",
    "                print(\"I can't find element_all\")\n",
    "    except:\n",
    "        pass\n",
    "    time.sleep(10)\n",
    "    tag_elements = new_driver.find_elements(by=By.TAG_NAME, value='a')\n",
    "    tag_elements = [tag_element for tag_element in tag_elements if tag_element.get_attribute('title') == 'Download PDF']\n",
    "    return tag_elements\n",
    "\n",
    "\n",
    "    "
   ]
  },
  {
   "cell_type": "code",
   "execution_count": 81,
   "metadata": {},
   "outputs": [],
   "source": [
    "def is_next_folder2_file(i) -> bool:\n",
    "    \"\"\"\n",
    "    This condition prevents folder2_name[i] going out. \n",
    "    If len(folder2) is 5, maximum i should be 4. Maximum next_idx that ranges out is 5.\n",
    "    So, The condition next_idx(5) < folder2_len(5) will be passed\n",
    "    \"\"\"\n",
    "    next_idx = i+1\n",
    "    if next_idx < len(folder2):\n",
    "        next_folder2_element = folder2[next_idx]\n",
    "        next_folder2_name = folder2_name[next_idx]\n",
    "        next_folder1_name = get_folder1_name(folder1_name, folder1_y_location, next_folder2_element)\n",
    "        folder_path_fullname = getcwd + '/' + 'PDF' + '/' + next_folder1_name + '/' + next_folder2_name\n",
    "        file_path = folder_path_fullname + '/' + '1' + '.pdf'\n",
    "        return os.path.isfile(file_path)\n",
    "    else:\n",
    "        return False"
   ]
  },
  {
   "cell_type": "code",
   "execution_count": 82,
   "metadata": {},
   "outputs": [],
   "source": [
    "def get_folder1_name(folder1_name:list, folder1_y_location:list , folder2_element) -> str:\n",
    "    folder2_y = folder2_element.location['y']\n",
    "    for idx in range(len(folder1_y_location)):\n",
    "        if not idx == len(folder1_y_location) - 1:\n",
    "            if folder1_y_location[idx] <= folder2_y < folder1_y_location[idx+1]:\n",
    "                return folder1_name[idx]\n",
    "            else:\n",
    "                pass\n",
    "        else:\n",
    "            return folder1_name[len(folder1_name)- 1]\n",
    "        \n",
    "\n",
    "\n"
   ]
  },
  {
   "cell_type": "code",
   "execution_count": 83,
   "metadata": {},
   "outputs": [],
   "source": [
    "async def download_pdf(path, pdf_link, file_name):\n",
    "    os.chdir(path)\n",
    "    response = requests.get(pdf_link)\n",
    "    pdf_name = file_name + '.pdf'\n",
    "    with open(pdf_name, 'wb') as f:\n",
    "        f.write(response.content)\n",
    "\n",
    "\n"
   ]
  },
  {
   "cell_type": "code",
   "execution_count": null,
   "metadata": {},
   "outputs": [],
   "source": [
    "folder2:list = list(filter(lambda x: filter_href(x), folder2))"
   ]
  },
  {
   "cell_type": "code",
   "execution_count": null,
   "metadata": {},
   "outputs": [],
   "source": [
    "folder2[2].get_attribute('href')"
   ]
  },
  {
   "cell_type": "code",
   "execution_count": null,
   "metadata": {},
   "outputs": [],
   "source": [
    "print(f\"filtered elements:{len(folder2)}\")"
   ]
  },
  {
   "cell_type": "code",
   "execution_count": 60,
   "metadata": {},
   "outputs": [],
   "source": [
    "folder2_name = [element.text for element in folder2]"
   ]
  },
  {
   "cell_type": "code",
   "execution_count": null,
   "metadata": {},
   "outputs": [],
   "source": [
    "print(folder2_name)"
   ]
  },
  {
   "cell_type": "code",
   "execution_count": 32,
   "metadata": {},
   "outputs": [
    {
     "data": {
      "text/plain": [
       "'Physics'"
      ]
     },
     "execution_count": 32,
     "metadata": {},
     "output_type": "execute_result"
    }
   ],
   "source": [
    "get_folder1_name(folder1_name, folder1_y_location, folder2[0])"
   ]
  },
  {
   "cell_type": "markdown",
   "metadata": {},
   "source": [
    "file_path = folder_path_fullname + '/' + file_name + '.pdf'\n",
    "os.path.isfile(file_path)"
   ]
  },
  {
   "cell_type": "code",
   "execution_count": 33,
   "metadata": {},
   "outputs": [],
   "source": [
    "getcwd = os.getcwd()"
   ]
  },
  {
   "cell_type": "code",
   "execution_count": null,
   "metadata": {},
   "outputs": [],
   "source": []
  },
  {
   "cell_type": "code",
   "execution_count": null,
   "metadata": {},
   "outputs": [],
   "source": [
    "for i, folder2_element in enumerate(folder2):\n",
    "    current_folder1_name = get_folder1_name(folder1_name, folder1_y_location, folder2_element)\n",
    "    current_folder2_name = folder2_name[i]\n",
    "    folder_path_fullname = getcwd + '/' + 'PDF' + '/' + current_folder1_name + '/' + current_folder2_name\n",
    "    time.sleep(1)\n",
    "    if is_next_folder2_file(i):\n",
    "        pass\n",
    "    else:\n",
    "        os.makedirs(folder_path_fullname, exist_ok=True)\n",
    "        pdf_elements = get_pdf_elements(folder2_element)\n",
    "        for j, pdf_element in enumerate(pdf_elements):\n",
    "            pdf_link = pdf_element.get_attribute('href')\n",
    "            file_name = str(j + 1)\n",
    "            file_path = folder_path_fullname + '/' + file_name + '.pdf'\n",
    "            print(file_path)\n",
    "            if os.path.isfile(file_path) == False:\n",
    "                await download_pdf(folder_path_fullname, pdf_link, file_name)\n",
    "            else:\n",
    "                pass\n",
    "\n",
    "print('Done')\n"
   ]
  },
  {
   "cell_type": "markdown",
   "metadata": {},
   "source": [
    "**os.listdir()**"
   ]
  },
  {
   "cell_type": "code",
   "execution_count": 53,
   "metadata": {},
   "outputs": [],
   "source": [
    "os.getcwd()\n",
    "os.chdir('..')"
   ]
  },
  {
   "cell_type": "code",
   "execution_count": 7,
   "metadata": {},
   "outputs": [
    {
     "data": {
      "text/plain": [
       "'/Users/user/Documents/paper_parser/scrape'"
      ]
     },
     "execution_count": 7,
     "metadata": {},
     "output_type": "execute_result"
    }
   ],
   "source": [
    "os.getcwd()"
   ]
  },
  {
   "cell_type": "code",
   "execution_count": 32,
   "metadata": {},
   "outputs": [],
   "source": [
    "entire_file_num = 0"
   ]
  },
  {
   "cell_type": "code",
   "execution_count": 8,
   "metadata": {},
   "outputs": [],
   "source": [
    "os.chdir('PDF')"
   ]
  },
  {
   "cell_type": "code",
   "execution_count": 35,
   "metadata": {},
   "outputs": [],
   "source": [
    "folder1_name = [name for name in os.listdir('.') if name != '.DS_Store']"
   ]
  },
  {
   "cell_type": "code",
   "execution_count": null,
   "metadata": {},
   "outputs": [],
   "source": [
    "folder1_name"
   ]
  },
  {
   "cell_type": "code",
   "execution_count": null,
   "metadata": {},
   "outputs": [],
   "source": [
    "os.getcwd()"
   ]
  },
  {
   "cell_type": "code",
   "execution_count": 37,
   "metadata": {},
   "outputs": [],
   "source": [
    "#PDF_num check\n",
    "\"\"\"\n",
    "for iter_folder1_name in folder1_name:\n",
    "    # start PDF/.\n",
    "    os.chdir(iter_folder1_name) \n",
    "    folder1_sub_directory = os.listdir('.')\n",
    "    folder1_sub_directory = [name for name in folder1_sub_directory if name != '.DS_Store']\n",
    "    for iter_folder1_sub_directory in folder1_sub_directory:\n",
    "        if not iter_folder1_sub_directory == '.DS_Store':\n",
    "            os.chdir(iter_folder1_sub_directory)\n",
    "            entire_file_num = entire_file_num + len(os.listdir('.'))\n",
    "            os.chdir('..')\n",
    "        else:\n",
    "            pass\n",
    "    os.chdir('..')\n",
    "\"\"\"\n",
    "\n"
   ]
  },
  {
   "cell_type": "code",
   "execution_count": 96,
   "metadata": {},
   "outputs": [
    {
     "name": "stdout",
     "output_type": "stream",
     "text": [
      "['9.pdf', '8.pdf', '10.pdf', '11.pdf', '13.pdf', '12.pdf', '6.pdf', '7.pdf', '5.pdf', '4.pdf', '1.pdf', '3.pdf', '2.pdf']\n"
     ]
    }
   ],
   "source": [
    "os.listdir('.')"
   ]
  },
  {
   "cell_type": "code",
   "execution_count": 1,
   "metadata": {},
   "outputs": [
    {
     "name": "stdout",
     "output_type": "stream",
     "text": [
      "3\n"
     ]
    }
   ],
   "source": [
    "a = ['a','b','c']\n",
    "print(len(a))"
   ]
  },
  {
   "cell_type": "code",
   "execution_count": 38,
   "metadata": {},
   "outputs": [
    {
     "name": "stdout",
     "output_type": "stream",
     "text": [
      "9202\n"
     ]
    }
   ],
   "source": [
    "print(entire_file_num)"
   ]
  },
  {
   "cell_type": "code",
   "execution_count": 40,
   "metadata": {},
   "outputs": [
    {
     "name": "stdout",
     "output_type": "stream",
     "text": [
      "1.9560965007607043\n"
     ]
    }
   ],
   "source": [
    "entire_sec = 5 * 60 * 60\n",
    "print(entire_sec / entire_file_num)"
   ]
  }
 ],
 "metadata": {
  "kernelspec": {
   "display_name": "paper_parser",
   "language": "python",
   "name": "python3"
  },
  "language_info": {
   "codemirror_mode": {
    "name": "ipython",
    "version": 3
   },
   "file_extension": ".py",
   "mimetype": "text/x-python",
   "name": "python",
   "nbconvert_exporter": "python",
   "pygments_lexer": "ipython3",
   "version": "3.12.3"
  }
 },
 "nbformat": 4,
 "nbformat_minor": 2
}
