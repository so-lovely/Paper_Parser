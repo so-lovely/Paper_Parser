{
 "cells": [
  {
   "cell_type": "code",
   "execution_count": null,
   "metadata": {},
   "outputs": [],
   "source": [
    "def go_page1(driver, i) -> bool:\n",
    "    current_url = driver.current_url\n",
    "    element = driver.find_element(by=By.ID, value=page1_ids[i])\n",
    "    page1_dic.update({element.text : page1_ids[i]})\n",
    "    element.click()\n",
    "    page1_url = driver.current_url\n",
    "    if current_url == page1_url:\n",
    "        parse = True\n",
    "    else:\n",
    "        parse = False\n",
    "\n",
    "    return parse"
   ]
  },
  {
   "cell_type": "code",
   "execution_count": null,
   "metadata": {},
   "outputs": [],
   "source": [
    "def get_pdf(lnks_pdf, page1_dic, i, j):\n",
    "\n",
    "    URL = lnks_pdf[j].get_attribute('href')\n",
    "    #URL = driver.current_url\n",
    "    response = requests.get(URL)\n",
    "\n",
    "    filename = \" \".join([page1_dic[i], str(j)]) + '.pdf'\n",
    "\n",
    "    with open(filename, \"wb\") as f:\n",
    "        f.write(response.content)"
   ]
  },
  {
   "cell_type": "code",
   "execution_count": null,
   "metadata": {},
   "outputs": [],
   "source": [
    "if __name__ == '__main__':\n",
    "    scrape_page = [\"https://arxiv.org\",\"https://scholar.archive.org\"]\n",
    "    print(scrape_page[0])\n",
    "    driver = webdriver.Chrome()\n",
    "    driver.get(scrape_page[0])\n",
    "    driver.implicitly_wait(2)\n",
    "    title = driver.title\n",
    "    print(f\"I'm on the /{title}/ website\")\n",
    "    lnks = driver.find_elements(by=By.TAG_NAME, value='a')\n",
    "    page1_ids = []\n",
    "    for lnk in lnks:\n",
    "        path_lnk = Path(lnk.get_attribute('href'))\n",
    "        part_lnk = path_lnk.parts\n",
    "        print(part_lnk)\n",
    "        if 'list' in part_lnk:\n",
    "            page1_ids.append(part_lnk[3])\n",
    "    \n",
    "    print(f\"page1_ids: {page1_ids}\")\n",
    "    \n",
    "    page1_len = len(page1_ids)\n",
    "    page1_dic = {}\n",
    "        print(f\"page1_len: {page1_len}\")\n"
   ]
  },
  {
   "cell_type": "code",
   "execution_count": null,
   "metadata": {},
   "outputs": [],
   "source": [
    "    for i in range(page1_len):\n",
    "        print(f\"{i} times completed\")\n",
    "        parse = go_page1(driver, i)\n",
    "        lnks_pdf:list = driver.find_elements(by=By.LINK_TEXT, value=\"pdf\")\n",
    "        print(f\"lnks_pdf: {lnks_pdf}\")\n",
    "        lnks_len = len(lnks_pdf)\n",
    "        print(f\"lnks_len: {lnks_len}\")\n",
    "        time.sleep(10)\n",
    "        if parse == True:\n",
    "            for j in range(lnks_len):\n",
    "                get_pdf(lnks_pdf, page1_dic, i,j)\n",
    "            time.sleep(2)\n",
    "            driver.back()\n",
    "        else:\n",
    "            pass\n",
    "        "
   ]
  }
 ],
 "metadata": {
  "language_info": {
   "name": "python"
  }
 },
 "nbformat": 4,
 "nbformat_minor": 2
}
