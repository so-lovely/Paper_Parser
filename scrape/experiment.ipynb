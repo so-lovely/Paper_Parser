{
 "cells": [
  {
   "cell_type": "code",
   "execution_count": 2,
   "metadata": {},
   "outputs": [
    {
     "name": "stdout",
     "output_type": "stream",
     "text": [
      "[3]\n"
     ]
    }
   ],
   "source": [
    "a= []\n",
    "a.append(3)\n",
    "print(a)"
   ]
  },
  {
   "cell_type": "code",
   "execution_count": 1,
   "metadata": {},
   "outputs": [],
   "source": [
    "from selenium import webdriver"
   ]
  },
  {
   "cell_type": "markdown",
   "metadata": {},
   "source": [
    "#temp"
   ]
  },
  {
   "cell_type": "code",
   "execution_count": null,
   "metadata": {},
   "outputs": [],
   "source": [
    "for current_element in Linkbot.current_elements: # FIX #\n",
    "            id = current_element.get_attribute('id')\n",
    "            Linkbot.find_element_by_id(id)\n",
    "            Linkbot.get_text_from_element()\n",
    "            Linkbot.click_element() #page_url is changed,add code in the class\n",
    "            pdf_function_hash = Linkbot.find_elements_by_link_text('pdf')\n",
    "            pdf_lnks = Linkbot.filter_href(hash=pdf_function_hash)\n",
    "            for pdf_lnk in pdf_lnks:\n",
    "                response = pdfbot.response(pdf_lnk)\n",
    "                await pdfbot.get_pdf(response=response, file_name=Linkbot.current_element.values(text))\n",
    "            Linkbot.back()"
   ]
  },
  {
   "cell_type": "code",
   "execution_count": 2,
   "metadata": {},
   "outputs": [],
   "source": [
    "def test():\n",
    "    scrape_page = [\"https://arxiv.org\",\"https://scholar.archive.org\"]\n",
    "    print(scrape_page[0])\n",
    "    driver = webdriver.Chrome()\n",
    "    driver.get(scrape_page[0])\n",
    "    a = 1\n",
    "    return a"
   ]
  },
  {
   "cell_type": "code",
   "execution_count": 3,
   "metadata": {},
   "outputs": [
    {
     "name": "stdout",
     "output_type": "stream",
     "text": [
      "https://arxiv.org\n",
      "1\n"
     ]
    }
   ],
   "source": [
    "if __name__ == '__main__':\n",
    "    b = test()\n",
    "    print(b)"
   ]
  },
  {
   "cell_type": "code",
   "execution_count": 7,
   "metadata": {},
   "outputs": [
    {
     "name": "stdout",
     "output_type": "stream",
     "text": [
      "3\n"
     ]
    }
   ],
   "source": [
    "class test2:\n",
    "    \n",
    "    def __init__(self):\n",
    "        arg_a = None\n",
    "        self.arg_a = arg_a\n",
    "    def test_fun1(self):\n",
    "        self.arg_a = 3\n",
    "    \n",
    "test_class = test2()\n",
    "test_class.test_fun1()\n",
    "print(test_class.arg_a)\n",
    "\n"
   ]
  },
  {
   "cell_type": "code",
   "execution_count": 8,
   "metadata": {},
   "outputs": [
    {
     "name": "stdout",
     "output_type": "stream",
     "text": [
      "{'a': {'3': '5'}, 'b': {'4': '5'}}\n"
     ]
    }
   ],
   "source": [
    "dic = {}\n",
    "dic.update({'a': {'3':'5'}})\n",
    "dic.update({'b': {'4':'5'}})\n",
    "print(dic)"
   ]
  }
 ],
 "metadata": {
  "kernelspec": {
   "display_name": "paper_parser",
   "language": "python",
   "name": "python3"
  },
  "language_info": {
   "codemirror_mode": {
    "name": "ipython",
    "version": 3
   },
   "file_extension": ".py",
   "mimetype": "text/x-python",
   "name": "python",
   "nbconvert_exporter": "python",
   "pygments_lexer": "ipython3",
   "version": "3.12.3"
  }
 },
 "nbformat": 4,
 "nbformat_minor": 2
}
