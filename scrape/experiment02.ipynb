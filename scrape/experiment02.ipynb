{
 "cells": [
  {
   "cell_type": "code",
   "execution_count": 29,
   "metadata": {},
   "outputs": [],
   "source": [
    "from selenium import webdriver\n",
    "\n",
    "from selenium.webdriver.common.by import By\n",
    "\n",
    "import requests\n",
    "\n"
   ]
  },
  {
   "cell_type": "code",
   "execution_count": null,
   "metadata": {},
   "outputs": [],
   "source": [
    "scrape_page = [\"https://arxiv.org\",\"https://scholar.archive.org\"]"
   ]
  },
  {
   "cell_type": "code",
   "execution_count": 16,
   "metadata": {},
   "outputs": [
    {
     "name": "stdout",
     "output_type": "stream",
     "text": [
      "https://arxiv.org\n",
      "I'm on the /arXiv.org e-Print archive/ website\n"
     ]
    }
   ],
   "source": [
    "async def homepage_load():\n",
    "\n",
    "    print(scrape_page[0])\n",
    "\n",
    "    driver = webdriver.Chrome()\n",
    "\n",
    "    driver.get(scrape_page[0])\n",
    "\n",
    "    driver.implicitly_wait(2)\n",
    "\n",
    "    title = driver.title\n",
    "\n",
    "    print(f\"I'm on the /{title}/ website\")\n",
    "\n"
   ]
  },
  {
   "cell_type": "code",
   "execution_count": 43,
   "metadata": {},
   "outputs": [],
   "source": [
    "async def arxiv_goto_page_1(page1_value:str): \n",
    "\n",
    "    link_ai = driver.find_element(by=By.ID, value=page1_value)\n",
    "\n",
    "    link_ai.click()\n",
    "\n",
    "await arxiv_next_page_1(\"cs.AI\")"
   ]
  },
  {
   "cell_type": "code",
   "execution_count": 25,
   "metadata": {},
   "outputs": [
    {
     "name": "stdout",
     "output_type": "stream",
     "text": [
      "[<selenium.webdriver.remote.webelement.WebElement (session=\"cd8fe5bb521c9309ddc2ad228617c372\", element=\"f.3645B203D25761345F258303567FB26B.d.080DC779F13E8556E5DB746EFAEE4232.e.1139\")>, <selenium.webdriver.remote.webelement.WebElement (session=\"cd8fe5bb521c9309ddc2ad228617c372\", element=\"f.3645B203D25761345F258303567FB26B.d.080DC779F13E8556E5DB746EFAEE4232.e.1142\")>, <selenium.webdriver.remote.webelement.WebElement (session=\"cd8fe5bb521c9309ddc2ad228617c372\", element=\"f.3645B203D25761345F258303567FB26B.d.080DC779F13E8556E5DB746EFAEE4232.e.1145\")>, <selenium.webdriver.remote.webelement.WebElement (session=\"cd8fe5bb521c9309ddc2ad228617c372\", element=\"f.3645B203D25761345F258303567FB26B.d.080DC779F13E8556E5DB746EFAEE4232.e.1148\")>, <selenium.webdriver.remote.webelement.WebElement (session=\"cd8fe5bb521c9309ddc2ad228617c372\", element=\"f.3645B203D25761345F258303567FB26B.d.080DC779F13E8556E5DB746EFAEE4232.e.1151\")>, <selenium.webdriver.remote.webelement.WebElement (session=\"cd8fe5bb521c9309ddc2ad228617c372\", element=\"f.3645B203D25761345F258303567FB26B.d.080DC779F13E8556E5DB746EFAEE4232.e.1155\")>, <selenium.webdriver.remote.webelement.WebElement (session=\"cd8fe5bb521c9309ddc2ad228617c372\", element=\"f.3645B203D25761345F258303567FB26B.d.080DC779F13E8556E5DB746EFAEE4232.e.1158\")>, <selenium.webdriver.remote.webelement.WebElement (session=\"cd8fe5bb521c9309ddc2ad228617c372\", element=\"f.3645B203D25761345F258303567FB26B.d.080DC779F13E8556E5DB746EFAEE4232.e.1161\")>, <selenium.webdriver.remote.webelement.WebElement (session=\"cd8fe5bb521c9309ddc2ad228617c372\", element=\"f.3645B203D25761345F258303567FB26B.d.080DC779F13E8556E5DB746EFAEE4232.e.1164\")>, <selenium.webdriver.remote.webelement.WebElement (session=\"cd8fe5bb521c9309ddc2ad228617c372\", element=\"f.3645B203D25761345F258303567FB26B.d.080DC779F13E8556E5DB746EFAEE4232.e.1168\")>, <selenium.webdriver.remote.webelement.WebElement (session=\"cd8fe5bb521c9309ddc2ad228617c372\", element=\"f.3645B203D25761345F258303567FB26B.d.080DC779F13E8556E5DB746EFAEE4232.e.1171\")>, <selenium.webdriver.remote.webelement.WebElement (session=\"cd8fe5bb521c9309ddc2ad228617c372\", element=\"f.3645B203D25761345F258303567FB26B.d.080DC779F13E8556E5DB746EFAEE4232.e.1175\")>, <selenium.webdriver.remote.webelement.WebElement (session=\"cd8fe5bb521c9309ddc2ad228617c372\", element=\"f.3645B203D25761345F258303567FB26B.d.080DC779F13E8556E5DB746EFAEE4232.e.1178\")>, <selenium.webdriver.remote.webelement.WebElement (session=\"cd8fe5bb521c9309ddc2ad228617c372\", element=\"f.3645B203D25761345F258303567FB26B.d.080DC779F13E8556E5DB746EFAEE4232.e.1181\")>, <selenium.webdriver.remote.webelement.WebElement (session=\"cd8fe5bb521c9309ddc2ad228617c372\", element=\"f.3645B203D25761345F258303567FB26B.d.080DC779F13E8556E5DB746EFAEE4232.e.1184\")>, <selenium.webdriver.remote.webelement.WebElement (session=\"cd8fe5bb521c9309ddc2ad228617c372\", element=\"f.3645B203D25761345F258303567FB26B.d.080DC779F13E8556E5DB746EFAEE4232.e.1187\")>, <selenium.webdriver.remote.webelement.WebElement (session=\"cd8fe5bb521c9309ddc2ad228617c372\", element=\"f.3645B203D25761345F258303567FB26B.d.080DC779F13E8556E5DB746EFAEE4232.e.1190\")>, <selenium.webdriver.remote.webelement.WebElement (session=\"cd8fe5bb521c9309ddc2ad228617c372\", element=\"f.3645B203D25761345F258303567FB26B.d.080DC779F13E8556E5DB746EFAEE4232.e.1193\")>, <selenium.webdriver.remote.webelement.WebElement (session=\"cd8fe5bb521c9309ddc2ad228617c372\", element=\"f.3645B203D25761345F258303567FB26B.d.080DC779F13E8556E5DB746EFAEE4232.e.1196\")>, <selenium.webdriver.remote.webelement.WebElement (session=\"cd8fe5bb521c9309ddc2ad228617c372\", element=\"f.3645B203D25761345F258303567FB26B.d.080DC779F13E8556E5DB746EFAEE4232.e.1199\")>, <selenium.webdriver.remote.webelement.WebElement (session=\"cd8fe5bb521c9309ddc2ad228617c372\", element=\"f.3645B203D25761345F258303567FB26B.d.080DC779F13E8556E5DB746EFAEE4232.e.1202\")>, <selenium.webdriver.remote.webelement.WebElement (session=\"cd8fe5bb521c9309ddc2ad228617c372\", element=\"f.3645B203D25761345F258303567FB26B.d.080DC779F13E8556E5DB746EFAEE4232.e.1205\")>, <selenium.webdriver.remote.webelement.WebElement (session=\"cd8fe5bb521c9309ddc2ad228617c372\", element=\"f.3645B203D25761345F258303567FB26B.d.080DC779F13E8556E5DB746EFAEE4232.e.1208\")>, <selenium.webdriver.remote.webelement.WebElement (session=\"cd8fe5bb521c9309ddc2ad228617c372\", element=\"f.3645B203D25761345F258303567FB26B.d.080DC779F13E8556E5DB746EFAEE4232.e.1211\")>, <selenium.webdriver.remote.webelement.WebElement (session=\"cd8fe5bb521c9309ddc2ad228617c372\", element=\"f.3645B203D25761345F258303567FB26B.d.080DC779F13E8556E5DB746EFAEE4232.e.1214\")>]\n"
     ]
    }
   ],
   "source": [
    "link_pdf:list = driver.find_elements(by=By.LINK_TEXT, value=\"pdf\")\n"
   ]
  },
  {
   "cell_type": "code",
   "execution_count": 31,
   "metadata": {},
   "outputs": [],
   "source": [
    "async def arxiv_goto_page_2(num):\n",
    "\n",
    "    link_pdf[num].click()\n",
    "\n",
    "    URL = driver.current_url\n",
    "\n",
    "    response = requests.get(URL)\n",
    "\n",
    "    filename = \" \".join(['AI pdf', '1']) + '.pdf'\n",
    "\n",
    "    with open(filename, \"wb\") as f:\n",
    "        f.write(response.content)\n",
    "\n"
   ]
  },
  {
   "cell_type": "code",
   "execution_count": 40,
   "metadata": {},
   "outputs": [],
   "source": [
    "\n",
    "response = requests.get(URL)\n",
    "\n",
    "\n",
    "filename = \" \".join(['AI pdf', '1']) + '.pdf'\n",
    "\n",
    "with open(filename, \"wb\") as f:\n",
    "    f.write(response.content)\n"
   ]
  },
  {
   "cell_type": "code",
   "execution_count": null,
   "metadata": {},
   "outputs": [],
   "source": []
  }
 ],
 "metadata": {
  "kernelspec": {
   "display_name": "paper_parser",
   "language": "python",
   "name": "python3"
  },
  "language_info": {
   "codemirror_mode": {
    "name": "ipython",
    "version": 3
   },
   "file_extension": ".py",
   "mimetype": "text/x-python",
   "name": "python",
   "nbconvert_exporter": "python",
   "pygments_lexer": "ipython3",
   "version": "3.12.3"
  }
 },
 "nbformat": 4,
 "nbformat_minor": 2
}
