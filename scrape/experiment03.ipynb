{
 "cells": [
  {
   "cell_type": "code",
   "execution_count": 126,
   "metadata": {},
   "outputs": [],
   "source": [
    "from selenium import webdriver\n",
    "\n",
    "from selenium.webdriver.common.by import By\n",
    "\n",
    "import requests\n",
    "\n",
    "from pathlib import Path\n",
    "\n",
    "import asyncio\n",
    "\n",
    "import time\n",
    "\n"
   ]
  },
  {
   "cell_type": "code",
   "execution_count": null,
   "metadata": {},
   "outputs": [],
   "source": [
    "'''-linkbot arguments-\n",
    "past_data = {page1_url: {element1 : {tag:[tag1, tag2, tag3, tag4 ....], -> history\n",
    "                                     text: [.....]\n",
    "                                     link_text:\n",
    "                                     ...\n",
    "                                     function: hash(function)\n",
    "                                     }\n",
    "                     element2 : {tag:[(another)tag1, tag2, tag3, tag4 ....],\n",
    "                                 text: [....]\n",
    "                                 link_text:\n",
    "                                 function: '  '\n",
    "                                 ...\n",
    "                                 ]\n",
    "                     ....\n",
    "                     }\n",
    "        page2_url: ....\n",
    "        }\n",
    "\n",
    "current_data = { element1:{id : \n",
    "                           tag:\n",
    "                           text:\n",
    "                           link_text:\n",
    "                          function:    hash(function)\n",
    "                          }\n",
    "                 element2: {\n",
    "                 ...\n",
    "                                }\n",
    "                .....\n",
    "                }\n",
    "current_element = {id:\n",
    "                   tag:\n",
    "                   text:\n",
    "                   link_text:\n",
    "                   function: hash(function)\n",
    "                   ..\n",
    "                   }\n",
    "\n",
    "\n",
    "current element is required\n",
    "Going to next page, current_element should be cleared\n",
    "\n",
    " '''"
   ]
  },
  {
   "cell_type": "code",
   "execution_count": null,
   "metadata": {},
   "outputs": [],
   "source": [
    "class linkbot:\n",
    "    def __init__(self, url):\n",
    "        self.starturl = url\n",
    "        self.past_data = {}\n",
    "        self.current_data = {}\n",
    "        self.current_element = {}\n",
    "\n",
    "    def startpoint_load(self):\n",
    "        pass\n",
    "    def find_elements_by_tag_a(self):\n",
    "        pass\n",
    "    def filter_href(self):\n",
    "        pass\n",
    "    def get_ids(self):\n",
    "        pass\n",
    "    def find_element_by_id(id):\n",
    "        pass\n",
    "    def get_text_from_element(self):\n",
    "        pass\n",
    "    def click_element(self):\n",
    "        pass\n",
    "    def find_elements_by_link_text(self,'pdf'):\n",
    "        pass\n",
    "    def current_element_clear(self):\n",
    "        self.current_element.clear()\n",
    "        pass\n",
    "\n",
    "    def back():\n",
    "        pass\n",
    "    def quit():\n",
    "        pass"
   ]
  },
  {
   "cell_type": "code",
   "execution_count": null,
   "metadata": {},
   "outputs": [],
   "source": [
    "class pdfbot(linkbot):\n",
    "    def __init__(self):\n",
    "        \n",
    "    def response(pdf_lnk):\n",
    "\n",
    "    def get_pdf(response, file_name):"
   ]
  },
  {
   "cell_type": "code",
   "execution_count": 127,
   "metadata": {},
   "outputs": [],
   "source": [
    "def go_page1(driver, i) -> bool:\n",
    "    current_url = driver.current_url\n",
    "    element = driver.find_element(by=By.ID, value=page1_ids[i])\n",
    "    page1_dic.update({element.text : page1_ids[i]})\n",
    "    element.click()\n",
    "    page1_url = driver.current_url\n",
    "    if current_url == page1_url:\n",
    "        parse = True\n",
    "    else:\n",
    "        parse = False\n",
    "\n",
    "    return parse"
   ]
  },
  {
   "cell_type": "code",
   "execution_count": 128,
   "metadata": {},
   "outputs": [],
   "source": [
    "def get_pdf(lnks_pdf, page1_dic, i, j):\n",
    "\n",
    "    URL = lnks_pdf[j].get_attribute('href')\n",
    "    #URL = driver.current_url\n",
    "    response = requests.get(URL)\n",
    "\n",
    "    filename = \" \".join([page1_dic[i], str(j)]) + '.pdf'\n",
    "\n",
    "    with open(filename, \"wb\") as f:\n",
    "        f.write(response.content)"
   ]
  },
  {
   "cell_type": "code",
   "execution_count": null,
   "metadata": {},
   "outputs": [],
   "source": [
    "if __name__ == '__main__':\n",
    "    scrape_page = [\"https://arxiv.org\",\"https://scholar.archive.org\"]\n",
    "    print(scrape_page[0])\n",
    "    driver = webdriver.Chrome()\n",
    "    driver.get(scrape_page[0])\n",
    "    driver.implicitly_wait(2)\n",
    "    title = driver.title\n",
    "    print(f\"I'm on the /{title}/ website\")\n",
    "    lnks = driver.find_elements(by=By.TAG_NAME, value='a')\n",
    "    page1_ids = []\n",
    "    for lnk in lnks:\n",
    "        path_lnk = Path(lnk.get_attribute('href'))\n",
    "        part_lnk = path_lnk.parts\n",
    "        print(part_lnk)\n",
    "        if 'list' in part_lnk:\n",
    "            page1_ids.append(part_lnk[3])\n",
    "    \n",
    "    print(f\"page1_ids: {page1_ids}\")\n",
    "    \n",
    "    page1_len = len(page1_ids)\n",
    "    page1_dic = {}\n"
   ]
  },
  {
   "cell_type": "code",
   "execution_count": 130,
   "metadata": {},
   "outputs": [
    {
     "name": "stdout",
     "output_type": "stream",
     "text": [
      "page1_len: 186\n"
     ]
    }
   ],
   "source": [
    "    print(f\"page1_len: {page1_len}\")"
   ]
  },
  {
   "cell_type": "code",
   "execution_count": null,
   "metadata": {},
   "outputs": [],
   "source": [
    "    for i in range(page1_len):\n",
    "        print(f\"{i} times completed\")\n",
    "        parse = go_page1(driver, i)\n",
    "        lnks_pdf:list = driver.find_elements(by=By.LINK_TEXT, value=\"pdf\")\n",
    "        print(f\"lnks_pdf: {lnks_pdf}\")\n",
    "        lnks_len = len(lnks_pdf)\n",
    "        print(f\"lnks_len: {lnks_len}\")\n",
    "        time.sleep(10)\n",
    "        if parse == True:\n",
    "            for j in range(lnks_len):\n",
    "                get_pdf(lnks_pdf, page1_dic, i,j)\n",
    "            time.sleep(2)\n",
    "            driver.back()\n",
    "        else:\n",
    "            pass\n",
    "        "
   ]
  },
  {
   "cell_type": "code",
   "execution_count": null,
   "metadata": {},
   "outputs": [],
   "source": [
    "if __name__ == '__main__':\n",
    "    linkbot = linkbot(start_url) \n",
    "    pdfbot = pdfbot()\n",
    "    linkbot.startpoint_load()\n",
    "    linkbot.find_elements_by_tag_a()\n",
    "    linkbot.filter_href()  #Save ids and texts\n",
    "    ids = linkbot.get_ids() #get_ids fun -> arg:elements or element\n",
    "    for id in linkbot.current_element.values(id):\n",
    "        linkbot.find_element_by_id(id)\n",
    "        linkbot.get_text_from_element()\n",
    "        linkbot.click_element() #page_url is changed,add code in the class\n",
    "        pdf_function_hash = linkbot.find_elements_by_link_text('pdf')\n",
    "        pdf_lnks = linkbot.filter_href(hash=pdf_function_hash)\n",
    "        for pdf_lnk in pdf_lnks:\n",
    "            response = pdfbot.response(pdf_lnk)\n",
    "            await pdfbot.get_pdf(response=response, file_name=current_element.values(text))\n",
    "        linkbot.back()\n",
    "    linkbot.quit()\n",
    "\n",
    "\n",
    "            \n",
    "            \n",
    "\n",
    "\n",
    "\n",
    "        \n",
    "\n",
    "        \n",
    "\n",
    "        "
   ]
  }
 ],
 "metadata": {
  "kernelspec": {
   "display_name": "paper_parser",
   "language": "python",
   "name": "python3"
  },
  "language_info": {
   "codemirror_mode": {
    "name": "ipython",
    "version": 3
   },
   "file_extension": ".py",
   "mimetype": "text/x-python",
   "name": "python",
   "nbconvert_exporter": "python",
   "pygments_lexer": "ipython3",
   "version": "3.12.3"
  }
 },
 "nbformat": 4,
 "nbformat_minor": 2
}
